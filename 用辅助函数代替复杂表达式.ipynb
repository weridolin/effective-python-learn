{
 "cells": [
  {
   "cell_type": "markdown",
   "metadata": {
    "collapsed": true,
    "pycharm": {
     "name": "#%% md\n"
    }
   },
   "source": [
    "### 空字符串，空列表，零值，都为评估位False\n",
    "\n",
    "- or : 如果改操作符左侧的子表达式位False 则会取右侧的值"
   ]
  },
  {
   "cell_type": "code",
   "execution_count": 2,
   "outputs": [
    {
     "name": "stdout",
     "output_type": "stream",
     "text": [
      "5\n",
      "0\n",
      "0\n"
     ]
    }
   ],
   "source": [
    "dict_={\n",
    "    \"red\":[5],\n",
    "    \"green\":[''],\n",
    "    \"blue\":['0']\n",
    "}\n",
    "\n",
    "print(dict_.get('red',[''])[0] or 0)\n",
    "\n",
    "# list只有一个元素且为空，固位false\n",
    "print(dict_.get('green',[''])[0] or 0)\n",
    "\n",
    "print(dict_.get('opacity',[''])[0] or 0)\n"
   ],
   "metadata": {
    "collapsed": false,
    "pycharm": {
     "name": "#%%\n"
    }
   }
  }
 ],
 "metadata": {
  "kernelspec": {
   "display_name": "Python 3",
   "language": "python",
   "name": "python3"
  },
  "language_info": {
   "codemirror_mode": {
    "name": "ipython",
    "version": 2
   },
   "file_extension": ".py",
   "mimetype": "text/x-python",
   "name": "python",
   "nbconvert_exporter": "python",
   "pygments_lexer": "ipython2",
   "version": "2.7.6"
  }
 },
 "nbformat": 4,
 "nbformat_minor": 0
}