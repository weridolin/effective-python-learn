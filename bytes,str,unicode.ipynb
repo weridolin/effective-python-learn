{
 "cells": [
  {
   "cell_type": "markdown",
   "metadata": {
    "collapsed": true,
    "pycharm": {
     "name": "#%% md\n"
    }
   },
   "source": [
    "## bytes/str\n",
    "- bytes: 包含原始的8位值：即8位bit表示一个char\n",
    "- str: 包含unicode字符\n",
    "- 两者之间的转换：utf-8:编码方式"
   ]
  },
  {
   "cell_type": "code",
   "execution_count": null,
   "outputs": [],
   "source": [
    "def to_str(bytes_or_str):\n",
    "    if isinstance(bytes_or_str,bytes):\n",
    "        return bytes_or_str.decode(\"utf-8\")\n",
    "    return bytes_or_str\n",
    "\n",
    "def to_bytes(bytes_or_str):\n",
    "    if isinstance(bytes_or_str,str):\n",
    "        return bytes_or_str.encode(\"utf-8\")\n",
    "    return bytes_or_str\n"
   ],
   "metadata": {
    "collapsed": false,
    "pycharm": {
     "name": "#%%\n"
    }
   }
  },
  {
   "cell_type": "markdown",
   "source": [
    "#### summary\n",
    "- python3中，bytes包含8位值的序列，str是一种包含Unicode字符的序列\n",
    "开发者不能以>或者+来操作两者\n",
    "- 从文件中读取二进制数据，或者写入时，应该以'rb'或者'wb'等二进制模式来开启文件"
   ],
   "metadata": {
    "collapsed": false,
    "pycharm": {
     "name": "#%% md\n"
    }
   }
  }
 ],
 "metadata": {
  "kernelspec": {
   "display_name": "Python 3",
   "language": "python",
   "name": "python3"
  },
  "language_info": {
   "codemirror_mode": {
    "name": "ipython",
    "version": 2
   },
   "file_extension": ".py",
   "mimetype": "text/x-python",
   "name": "python",
   "nbconvert_exporter": "python",
   "pygments_lexer": "ipython2",
   "version": "2.7.6"
  }
 },
 "nbformat": 4,
 "nbformat_minor": 0
}